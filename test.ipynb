{
 "cells": [
  {
   "cell_type": "code",
   "execution_count": null,
   "metadata": {},
   "outputs": [
    {
     "name": "stdout",
     "output_type": "stream",
     "text": [
      "Hola mundo!\n"
     ]
    }
   ],
   "source": [
    "print(\"Hola mundo!\")"
   ]
  },
  {
   "cell_type": "code",
   "execution_count": 1,
   "metadata": {},
   "outputs": [
    {
     "name": "stdout",
     "output_type": "stream",
     "text": [
      "Hola nombre\n"
     ]
    }
   ],
   "source": [
    "nombre = input(\"Ingrese nombre: \")\n",
    "print(f\"Hola {nombre}\")"
   ]
  },
  {
   "cell_type": "code",
   "execution_count": 2,
   "metadata": {},
   "outputs": [
    {
     "name": "stdout",
     "output_type": "stream",
     "text": [
      "Soy Genaro Luna tengo 22 años y vivo en Argentina\n"
     ]
    }
   ],
   "source": [
    "nombre_completo = input(\"Ingrese nombre completo: \")\n",
    "edad = input(\"Ingrese edad: \")\n",
    "localidad = input(\"Ingrese localidad: \")\n",
    "print(f\"Soy {nombre_completo} tengo {edad} años y vivo en {localidad}\")"
   ]
  },
  {
   "cell_type": "code",
   "execution_count": 4,
   "metadata": {},
   "outputs": [
    {
     "name": "stdout",
     "output_type": "stream",
     "text": [
      "El area es 706.5\n"
     ]
    }
   ],
   "source": [
    "pi = 3.14\n",
    "radio = int(input(\"Ingrese radio del circulo: \"))\n",
    "area = radio**2 * pi\n",
    "print(f\"El area es {area}\")"
   ]
  },
  {
   "cell_type": "code",
   "execution_count": 7,
   "metadata": {},
   "outputs": [
    {
     "name": "stdout",
     "output_type": "stream",
     "text": [
      "Cantidad de horas equiivalentes: 60.0\n"
     ]
    }
   ],
   "source": [
    "segundos = int(input(\"Ingrese segundos:\"))\n",
    "horas = segundos/60\n",
    "print(f\"Cantidad de horas equiivalentes: {horas}\")"
   ]
  },
  {
   "cell_type": "code",
   "execution_count": 13,
   "metadata": {},
   "outputs": [
    {
     "name": "stdout",
     "output_type": "stream",
     "text": [
      "0\n",
      "5\n",
      "10\n",
      "15\n",
      "20\n",
      "25\n",
      "30\n",
      "35\n",
      "40\n",
      "45\n",
      "50\n"
     ]
    }
   ],
   "source": [
    "numero = int(input(\"Ingrese numero\"))\n",
    "i = 0\n",
    "while i <= 10:\n",
    "    print(numero * i)\n",
    "    i += 1"
   ]
  },
  {
   "cell_type": "code",
   "execution_count": 19,
   "metadata": {},
   "outputs": [
    {
     "name": "stdout",
     "output_type": "stream",
     "text": [
      "Resultados de la suma: 5 || Resta: 1 || Multiplicacion 6 || Division 1.5\n"
     ]
    }
   ],
   "source": [
    "num2 = int(input(\"Ingrese num1\"))\n",
    "num1 = int(input(\"Ingrese num2\"))\n",
    "if (num1 > 0) & (num2 > 0):\n",
    "    suma = num1 + num2\n",
    "    resta = num1 - num2\n",
    "    mult = num1 * num2\n",
    "    div = num1 / num2\n",
    "    print(f\"Resultados de la suma: {suma} || Resta: {resta} || Multiplicacion {mult} || Division {div}\")"
   ]
  },
  {
   "cell_type": "code",
   "execution_count": 21,
   "metadata": {},
   "outputs": [
    {
     "name": "stdout",
     "output_type": "stream",
     "text": [
      "IMC: 22.49134948096886\n"
     ]
    }
   ],
   "source": [
    "masa = int(input(\"Ingrese peso:\"))\n",
    "alt = float(input(\"Ingrese altura:\"))\n",
    "imc = masa/alt**2\n",
    "print(f\"IMC: {imc}\")"
   ]
  },
  {
   "cell_type": "code",
   "execution_count": 23,
   "metadata": {},
   "outputs": [
    {
     "name": "stdout",
     "output_type": "stream",
     "text": [
      "Temperatura en 𝐹𝑎ℎ𝑟𝑒𝑛ℎ𝑒𝑖t 212.0\n"
     ]
    }
   ],
   "source": [
    "celsius = float(input(\"Ingrese temperatuira en celsius:\"))\n",
    "fahrenheit = (9/5) * celsius + 32\n",
    "print(f\"Temperatura en 𝐹𝑎ℎ𝑟𝑒𝑛ℎ𝑒𝑖t {fahrenheit}\")"
   ]
  },
  {
   "cell_type": "code",
   "execution_count": 25,
   "metadata": {},
   "outputs": [
    {
     "name": "stdout",
     "output_type": "stream",
     "text": [
      "El promedio es: 100.0\n"
     ]
    }
   ],
   "source": [
    "num1 = float(input(\"Ingrese numero 1\"))\n",
    "num2 = float(input(\"Ingrese numero 2\"))\n",
    "num3 = float(input(\"Ingrese numero 3\"))\n",
    "promedio = (num1 + num2 + num3)/3\n",
    "print(f\"El promedio es: {promedio}\")"
   ]
  }
 ],
 "metadata": {
  "kernelspec": {
   "display_name": "Python 3",
   "language": "python",
   "name": "python3"
  },
  "language_info": {
   "codemirror_mode": {
    "name": "ipython",
    "version": 3
   },
   "file_extension": ".py",
   "mimetype": "text/x-python",
   "name": "python",
   "nbconvert_exporter": "python",
   "pygments_lexer": "ipython3",
   "version": "3.13.2"
  }
 },
 "nbformat": 4,
 "nbformat_minor": 2
}
